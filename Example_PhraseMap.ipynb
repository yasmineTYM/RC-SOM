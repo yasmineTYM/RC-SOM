{
 "cells": [
  {
   "cell_type": "code",
   "execution_count": 1,
   "id": "cae445f0",
   "metadata": {},
   "outputs": [],
   "source": [
    "import numpy as np \n",
    "from minisomM import MiniSom\n",
    "import pandas as pd \n",
    "from sklearn.manifold import TSNE\n",
    "import json\n",
    "def readJson(filename):\n",
    "    f = open(filename)\n",
    "    data = json.load(f)\n",
    "    if isinstance(data, str):\n",
    "      data = json.loads(data)\n",
    "    return data\n",
    "\n",
    "def seprateJson(item):\n",
    "  embedding = list(item.values())\n",
    "  tokens = list(item.keys())\n",
    "  return tokens, embedding\n",
    "\n",
    "\n",
    "\n",
    "def SOM(size_x,size_y, original_embedding, embedding_keys, sigma, lr, epoch):\n",
    "    print('=========computing tsne=========')\n",
    "    original_embedding = np.nan_to_num(original_embedding) ## replace nan with 0 \n",
    "    embedding = TSNE(n_components=2,init='random', random_state=23).fit_transform(original_embedding)\n",
    "    print('=========train som=========')\n",
    "    som = MiniSom(size_x, size_y, embedding.shape[1], sigma=sigma, resource_limit = 1, learning_rate=lr, activation_distance='euclidean',\n",
    "                topology='hexagonal', neighborhood_function='gaussian', random_seed=10)\n",
    "    som.train(embedding,epoch,10,verbose = True)\n",
    "    res = {} \n",
    "    som._resource_initialize()\n",
    "    for cnt, x in enumerate(embedding):\n",
    "        # getting the winner\n",
    "        w = som.winner(x)\n",
    "        if res.get(\"(\"+str(w[0])+\",\"+str(w[1])+\")\"): \n",
    "            res[\"(\"+str(w[0])+\",\"+str(w[1])+\")\"].append(embedding_keys[cnt])\n",
    "        else:\n",
    "            res[\"(\"+str(w[0])+\",\"+str(w[1])+\")\"] = [embedding_keys[cnt]]\n",
    "    return res ## mapping from position -> key "
   ]
  },
  {
   "cell_type": "code",
   "execution_count": 7,
   "id": "ca252879",
   "metadata": {},
   "outputs": [
    {
     "name": "stdout",
     "output_type": "stream",
     "text": [
      "=========computing tsne=========\n",
      "=========train som=========\n",
      "working on 0th batch right now, updating resource, status: (1.0, 1.0)\n",
      "working on 1th batch right now, updating resource, status: (0.0, 0.0)\n",
      "working on 2th batch right now, updating resource, status: (0.0, 0.0)\n",
      "working on 3th batch right now, updating resource, status: (0.0, 0.0)\n",
      "working on 4th batch right now, updating resource, status: (0.0, 0.0)\n",
      "working on 5th batch right now, updating resource, status: (0.0, 0.0)\n",
      "working on 6th batch right now, updating resource, status: (0.0, 0.0)\n",
      "working on 7th batch right now, updating resource, status: (0.0, 0.0)\n",
      "working on 8th batch right now, updating resource, status: (0.0, 0.0)\n",
      "working on 9th batch right now, updating resource, status: (0.0, 0.0)\n",
      " [ 1000 / 1000 ] 100% - 0:00:00 left \n",
      " quantization error: 0.12626454477295845\n",
      "\n",
      " quantization error: 0.12626454477295845\n",
      "{'(7,9)': ['key_0'], '(7,5)': ['key_1'], '(0,4)': ['key_2'], '(9,1)': ['key_3'], '(8,4)': ['key_4'], '(9,5)': ['key_5'], '(0,6)': ['key_6'], '(2,0)': ['key_7'], '(1,9)': ['key_8'], '(1,3)': ['key_9'], '(1,5)': ['key_10'], '(4,8)': ['key_11'], '(2,7)': ['key_12'], '(1,6)': ['key_13'], '(7,6)': ['key_14'], '(7,1)': ['key_15'], '(5,9)': ['key_16'], '(2,3)': ['key_17'], '(8,9)': ['key_18'], '(3,7)': ['key_19'], '(0,1)': ['key_20'], '(2,6)': ['key_21'], '(9,2)': ['key_22'], '(5,8)': ['key_23'], '(6,9)': ['key_24'], '(4,4)': ['key_25'], '(0,9)': ['key_26'], '(5,7)': ['key_27'], '(5,2)': ['key_28'], '(1,7)': ['key_29'], '(8,6)': ['key_30'], '(9,8)': ['key_31'], '(1,1)': ['key_32'], '(1,4)': ['key_33'], '(3,4)': ['key_34'], '(2,8)': ['key_35'], '(0,8)': ['key_36'], '(3,9)': ['key_37'], '(7,3)': ['key_38'], '(5,5)': ['key_39'], '(9,7)': ['key_40'], '(3,0)': ['key_41'], '(7,7)': ['key_42'], '(2,1)': ['key_43'], '(8,0)': ['key_44'], '(3,1)': ['key_45'], '(2,9)': ['key_46'], '(2,4)': ['key_47'], '(6,2)': ['key_48'], '(6,7)': ['key_49'], '(5,3)': ['key_50'], '(0,5)': ['key_51'], '(3,2)': ['key_52'], '(9,0)': ['key_53'], '(9,9)': ['key_54'], '(8,1)': ['key_55'], '(6,0)': ['key_56'], '(8,5)': ['key_57'], '(9,4)': ['key_58'], '(7,8)': ['key_59'], '(1,2)': ['key_60'], '(4,9)': ['key_61'], '(6,5)': ['key_62'], '(4,1)': ['key_63'], '(0,3)': ['key_64'], '(4,5)': ['key_65'], '(3,3)': ['key_66'], '(3,6)': ['key_67'], '(3,8)': ['key_68'], '(6,6)': ['key_69'], '(4,3)': ['key_70'], '(0,0)': ['key_71'], '(1,0)': ['key_72'], '(5,0)': ['key_73'], '(6,4)': ['key_74'], '(2,2)': ['key_75'], '(0,2)': ['key_76'], '(6,1)': ['key_77'], '(9,3)': ['key_78'], '(4,6)': ['key_79'], '(4,7)': ['key_80'], '(7,4)': ['key_81'], '(6,8)': ['key_82'], '(2,5)': ['key_83'], '(7,2)': ['key_84'], '(4,2)': ['key_85'], '(4,0)': ['key_86'], '(3,5)': ['key_87'], '(5,1)': ['key_88'], '(8,3)': ['key_89'], '(6,3)': ['key_90'], '(0,7)': ['key_91'], '(8,7)': ['key_92'], '(8,2)': ['key_93'], '(8,8)': ['key_94'], '(5,4)': ['key_95'], '(9,6)': ['key_96'], '(5,6)': ['key_97'], '(7,0)': ['key_98'], '(1,8)': ['key_99']}\n"
     ]
    }
   ],
   "source": [
    "original_embedding = np.random.rand(100, 768)  # Example: 100 phrases with 768-dim embeddings\n",
    "embedding_keys = [f\"key_{i}\" for i in range(100)]\n",
    "\n",
    "# Parameters\n",
    "size_x = 10\n",
    "size_y = 10\n",
    "sigma = 1.0\n",
    "lr = 0.5\n",
    "epoch = 1000\n",
    "\n",
    "# Running the SOM function\n",
    "mapping = SOM(size_x, size_y, original_embedding, embedding_keys, sigma, lr, epoch)\n",
    "print(mapping)"
   ]
  },
  {
   "cell_type": "code",
   "execution_count": null,
   "id": "1a5170bb",
   "metadata": {},
   "outputs": [],
   "source": []
  }
 ],
 "metadata": {
  "kernelspec": {
   "display_name": "pvis2024",
   "language": "python",
   "name": "pvis2024"
  },
  "language_info": {
   "codemirror_mode": {
    "name": "ipython",
    "version": 3
   },
   "file_extension": ".py",
   "mimetype": "text/x-python",
   "name": "python",
   "nbconvert_exporter": "python",
   "pygments_lexer": "ipython3",
   "version": "3.8.17"
  }
 },
 "nbformat": 4,
 "nbformat_minor": 5
}
